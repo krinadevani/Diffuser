{
 "cells": [
  {
   "cell_type": "code",
   "execution_count": 3,
   "id": "3aabe98e",
   "metadata": {},
   "outputs": [
    {
     "name": "stdout",
     "output_type": "stream",
     "text": [
      "Requirement already satisfied: diffusers in /Users/krinadevani/anaconda3/lib/python3.11/site-packages (0.24.0)\n",
      "Requirement already satisfied: Pillow in /Users/krinadevani/anaconda3/lib/python3.11/site-packages (from diffusers) (9.4.0)\n",
      "Requirement already satisfied: filelock in /Users/krinadevani/anaconda3/lib/python3.11/site-packages (from diffusers) (3.9.0)\n",
      "Requirement already satisfied: huggingface-hub>=0.19.4 in /Users/krinadevani/anaconda3/lib/python3.11/site-packages (from diffusers) (0.19.4)\n",
      "Requirement already satisfied: importlib-metadata in /Users/krinadevani/anaconda3/lib/python3.11/site-packages (from diffusers) (6.0.0)\n",
      "Requirement already satisfied: numpy in /Users/krinadevani/anaconda3/lib/python3.11/site-packages (from diffusers) (1.24.3)\n",
      "Requirement already satisfied: regex!=2019.12.17 in /Users/krinadevani/anaconda3/lib/python3.11/site-packages (from diffusers) (2022.7.9)\n",
      "Requirement already satisfied: requests in /Users/krinadevani/anaconda3/lib/python3.11/site-packages (from diffusers) (2.31.0)\n",
      "Requirement already satisfied: safetensors>=0.3.1 in /Users/krinadevani/anaconda3/lib/python3.11/site-packages (from diffusers) (0.4.1)\n",
      "Requirement already satisfied: fsspec>=2023.5.0 in /Users/krinadevani/anaconda3/lib/python3.11/site-packages (from huggingface-hub>=0.19.4->diffusers) (2023.12.0)\n",
      "Requirement already satisfied: tqdm>=4.42.1 in /Users/krinadevani/anaconda3/lib/python3.11/site-packages (from huggingface-hub>=0.19.4->diffusers) (4.65.0)\n",
      "Requirement already satisfied: pyyaml>=5.1 in /Users/krinadevani/anaconda3/lib/python3.11/site-packages (from huggingface-hub>=0.19.4->diffusers) (6.0)\n",
      "Requirement already satisfied: typing-extensions>=3.7.4.3 in /Users/krinadevani/anaconda3/lib/python3.11/site-packages (from huggingface-hub>=0.19.4->diffusers) (4.7.1)\n",
      "Requirement already satisfied: packaging>=20.9 in /Users/krinadevani/anaconda3/lib/python3.11/site-packages (from huggingface-hub>=0.19.4->diffusers) (23.0)\n",
      "Requirement already satisfied: zipp>=0.5 in /Users/krinadevani/anaconda3/lib/python3.11/site-packages (from importlib-metadata->diffusers) (3.11.0)\n",
      "Requirement already satisfied: charset-normalizer<4,>=2 in /Users/krinadevani/anaconda3/lib/python3.11/site-packages (from requests->diffusers) (2.0.4)\n",
      "Requirement already satisfied: idna<4,>=2.5 in /Users/krinadevani/anaconda3/lib/python3.11/site-packages (from requests->diffusers) (3.4)\n",
      "Requirement already satisfied: urllib3<3,>=1.21.1 in /Users/krinadevani/anaconda3/lib/python3.11/site-packages (from requests->diffusers) (1.26.16)\n",
      "Requirement already satisfied: certifi>=2017.4.17 in /Users/krinadevani/anaconda3/lib/python3.11/site-packages (from requests->diffusers) (2023.7.22)\n",
      "Requirement already satisfied: accelerate in /Users/krinadevani/anaconda3/lib/python3.11/site-packages (0.25.0)\n",
      "Requirement already satisfied: numpy>=1.17 in /Users/krinadevani/anaconda3/lib/python3.11/site-packages (from accelerate) (1.24.3)\n",
      "Requirement already satisfied: packaging>=20.0 in /Users/krinadevani/anaconda3/lib/python3.11/site-packages (from accelerate) (23.0)\n",
      "Requirement already satisfied: psutil in /Users/krinadevani/anaconda3/lib/python3.11/site-packages (from accelerate) (5.9.0)\n",
      "Requirement already satisfied: pyyaml in /Users/krinadevani/anaconda3/lib/python3.11/site-packages (from accelerate) (6.0)\n",
      "Requirement already satisfied: torch>=1.10.0 in /Users/krinadevani/anaconda3/lib/python3.11/site-packages (from accelerate) (2.1.1)\n",
      "Requirement already satisfied: huggingface-hub in /Users/krinadevani/anaconda3/lib/python3.11/site-packages (from accelerate) (0.19.4)\n",
      "Requirement already satisfied: safetensors>=0.3.1 in /Users/krinadevani/anaconda3/lib/python3.11/site-packages (from accelerate) (0.4.1)\n",
      "Requirement already satisfied: filelock in /Users/krinadevani/anaconda3/lib/python3.11/site-packages (from torch>=1.10.0->accelerate) (3.9.0)\n",
      "Requirement already satisfied: typing-extensions in /Users/krinadevani/anaconda3/lib/python3.11/site-packages (from torch>=1.10.0->accelerate) (4.7.1)\n",
      "Requirement already satisfied: sympy in /Users/krinadevani/anaconda3/lib/python3.11/site-packages (from torch>=1.10.0->accelerate) (1.11.1)\n",
      "Requirement already satisfied: networkx in /Users/krinadevani/anaconda3/lib/python3.11/site-packages (from torch>=1.10.0->accelerate) (3.1)\n",
      "Requirement already satisfied: jinja2 in /Users/krinadevani/anaconda3/lib/python3.11/site-packages (from torch>=1.10.0->accelerate) (3.1.2)\n",
      "Requirement already satisfied: fsspec in /Users/krinadevani/anaconda3/lib/python3.11/site-packages (from torch>=1.10.0->accelerate) (2023.12.0)\n",
      "Requirement already satisfied: requests in /Users/krinadevani/anaconda3/lib/python3.11/site-packages (from huggingface-hub->accelerate) (2.31.0)\n",
      "Requirement already satisfied: tqdm>=4.42.1 in /Users/krinadevani/anaconda3/lib/python3.11/site-packages (from huggingface-hub->accelerate) (4.65.0)\n",
      "Requirement already satisfied: MarkupSafe>=2.0 in /Users/krinadevani/anaconda3/lib/python3.11/site-packages (from jinja2->torch>=1.10.0->accelerate) (2.1.1)\n",
      "Requirement already satisfied: charset-normalizer<4,>=2 in /Users/krinadevani/anaconda3/lib/python3.11/site-packages (from requests->huggingface-hub->accelerate) (2.0.4)\n",
      "Requirement already satisfied: idna<4,>=2.5 in /Users/krinadevani/anaconda3/lib/python3.11/site-packages (from requests->huggingface-hub->accelerate) (3.4)\n",
      "Requirement already satisfied: urllib3<3,>=1.21.1 in /Users/krinadevani/anaconda3/lib/python3.11/site-packages (from requests->huggingface-hub->accelerate) (1.26.16)\n",
      "Requirement already satisfied: certifi>=2017.4.17 in /Users/krinadevani/anaconda3/lib/python3.11/site-packages (from requests->huggingface-hub->accelerate) (2023.7.22)\n",
      "Requirement already satisfied: mpmath>=0.19 in /Users/krinadevani/anaconda3/lib/python3.11/site-packages (from sympy->torch>=1.10.0->accelerate) (1.3.0)\n"
     ]
    }
   ],
   "source": [
    "! pip install diffusers\n",
    "! pip install accelerate"
   ]
  },
  {
   "cell_type": "markdown",
   "id": "adc50e25",
   "metadata": {},
   "source": [
    "## 1. Generate an image from a pretrained DDPM model "
   ]
  },
  {
   "cell_type": "code",
   "execution_count": null,
   "id": "0976480c",
   "metadata": {
    "scrolled": true
   },
   "outputs": [
    {
     "data": {
      "application/vnd.jupyter.widget-view+json": {
       "model_id": "7a735d962e294b819d19c4172568a795",
       "version_major": 2,
       "version_minor": 0
      },
      "text/plain": [
       "Loading pipeline components...:   0%|          | 0/2 [00:00<?, ?it/s]"
      ]
     },
     "metadata": {},
     "output_type": "display_data"
    },
    {
     "data": {
      "application/vnd.jupyter.widget-view+json": {
       "model_id": "aed25f81978848078cf1a075e1a863a8",
       "version_major": 2,
       "version_minor": 0
      },
      "text/plain": [
       "  0%|          | 0/1000 [00:00<?, ?it/s]"
      ]
     },
     "metadata": {},
     "output_type": "display_data"
    },
    {
     "name": "stderr",
     "output_type": "stream",
     "text": [
      "diffusion_pytorch_model.safetensors not found\n"
     ]
    },
    {
     "data": {
      "application/vnd.jupyter.widget-view+json": {
       "model_id": "43af6cdd3e344518b19ad9ab8af4d233",
       "version_major": 2,
       "version_minor": 0
      },
      "text/plain": [
       "Loading pipeline components...:   0%|          | 0/2 [00:00<?, ?it/s]"
      ]
     },
     "metadata": {},
     "output_type": "display_data"
    },
    {
     "data": {
      "application/vnd.jupyter.widget-view+json": {
       "model_id": "dbb15e8b7aef4e15ab9ba4bd09908a0a",
       "version_major": 2,
       "version_minor": 0
      },
      "text/plain": [
       "  0%|          | 0/1000 [00:00<?, ?it/s]"
      ]
     },
     "metadata": {},
     "output_type": "display_data"
    },
    {
     "name": "stderr",
     "output_type": "stream",
     "text": [
      "diffusion_pytorch_model.safetensors not found\n"
     ]
    },
    {
     "data": {
      "application/vnd.jupyter.widget-view+json": {
       "model_id": "82cac14d037a44b5bd9a87e73eebb773",
       "version_major": 2,
       "version_minor": 0
      },
      "text/plain": [
       "Loading pipeline components...:   0%|          | 0/2 [00:00<?, ?it/s]"
      ]
     },
     "metadata": {},
     "output_type": "display_data"
    },
    {
     "data": {
      "application/vnd.jupyter.widget-view+json": {
       "model_id": "480ea09bd4a14115971430f1685a1ffe",
       "version_major": 2,
       "version_minor": 0
      },
      "text/plain": [
       "  0%|          | 0/1000 [00:00<?, ?it/s]"
      ]
     },
     "metadata": {},
     "output_type": "display_data"
    }
   ],
   "source": [
    "from diffusers import DDPMPipeline\n",
    "model_ids = [\"google/ddpm-cat-256\", \"google/ddpm-church-256\", \"google/ddpm-celebahq-256\", \"google/ddpm-bedroom-256\", \"google/ddpm-cifar10-32\"]\n",
    "image_list = []\n",
    "for model_id in model_ids:\n",
    "  # ---------------------\n",
    "    ddpm = DDPMPipeline.from_pretrained(model_id)\n",
    "    image = ddpm()\n",
    "    image_list.append(image)\n",
    "\n",
    "  # ---------------------"
   ]
  },
  {
   "cell_type": "code",
   "execution_count": null,
   "id": "1e836fb6",
   "metadata": {},
   "outputs": [],
   "source": [
    "image_list[0]"
   ]
  },
  {
   "cell_type": "code",
   "execution_count": null,
   "id": "b132559d",
   "metadata": {},
   "outputs": [],
   "source": [
    "image_list[1]"
   ]
  },
  {
   "cell_type": "code",
   "execution_count": null,
   "id": "5d67ae93",
   "metadata": {},
   "outputs": [],
   "source": [
    "image_list[2]"
   ]
  },
  {
   "cell_type": "code",
   "execution_count": null,
   "id": "2c24c0c5",
   "metadata": {},
   "outputs": [],
   "source": [
    "image_list[3]"
   ]
  },
  {
   "cell_type": "code",
   "execution_count": null,
   "id": "effde5f3",
   "metadata": {},
   "outputs": [],
   "source": [
    "image_list[4]"
   ]
  },
  {
   "cell_type": "code",
   "execution_count": null,
   "id": "9fd11342",
   "metadata": {},
   "outputs": [],
   "source": [
    "last_image = image_list[1].images[0]\n",
    "last_image.show()"
   ]
  },
  {
   "cell_type": "markdown",
   "id": "2b5038d5",
   "metadata": {},
   "source": [
    "## 2. Use DDIM pipeline in the previous setup"
   ]
  },
  {
   "cell_type": "code",
   "execution_count": null,
   "id": "33183f99",
   "metadata": {},
   "outputs": [],
   "source": [
    "from diffusers import DDIMPipeline\n",
    "model_ids = [\"google/ddpm-cat-256\", \"google/ddpm-church-256\", \"google/ddpm-celebahq-256\", \"google/ddpm-bedroom-256\", \"google/ddpm-cifar10-32\"]\n",
    "image_list = []\n",
    "for model_id in model_ids:\n",
    "  # ---------------------\n",
    "    ddim = DDIMPipeline.from_pretrained(model_id)\n",
    "    image = ddim()\n",
    "  # ---------------------\n",
    "    image_list.append(image)"
   ]
  },
  {
   "cell_type": "code",
   "execution_count": null,
   "id": "82ffcc76",
   "metadata": {},
   "outputs": [],
   "source": [
    "image_list[0]"
   ]
  },
  {
   "cell_type": "code",
   "execution_count": null,
   "id": "8f353d7d",
   "metadata": {},
   "outputs": [],
   "source": [
    "image_list[1]"
   ]
  },
  {
   "cell_type": "code",
   "execution_count": null,
   "id": "060d1140",
   "metadata": {},
   "outputs": [],
   "source": [
    "image_list[2]"
   ]
  },
  {
   "cell_type": "code",
   "execution_count": null,
   "id": "d4c84338",
   "metadata": {},
   "outputs": [],
   "source": [
    "image_list[3]"
   ]
  },
  {
   "cell_type": "code",
   "execution_count": null,
   "id": "5c6e8562",
   "metadata": {},
   "outputs": [],
   "source": [
    "image_list[4]"
   ]
  },
  {
   "cell_type": "markdown",
   "id": "a22b7196",
   "metadata": {},
   "source": [
    "## 3. Generate Images with a text-to-Image pipeline"
   ]
  },
  {
   "cell_type": "code",
   "execution_count": null,
   "id": "8b210057",
   "metadata": {},
   "outputs": [],
   "source": [
    "from diffusers import AutoPipelineForText2Image\n",
    "import torch\n",
    "\n",
    "# ---------------------\n",
    "\n",
    "pipeline = AutoPipelineForText2Image.from_pretrained(\"runwayml/stable-diffusion-v1-5\")\n",
    "\n",
    "# ---------------------"
   ]
  },
  {
   "cell_type": "code",
   "execution_count": null,
   "id": "de301ea4",
   "metadata": {},
   "outputs": [],
   "source": [
    "# write your prompts\n",
    "prompt1 = \"Mystical forest\"\n",
    "prompt2 = \"An oil painting of a rainbow over a rural abandoned town with classic style\"\n",
    "prompt3 = \"Underwater world\"\n",
    "prompt4 = \"Two monsters playing chess in the style of cubism with bright colors and low resolution\"\n",
    "prompt5 = \"Cozy cabin in a snowy forest\"\n",
    "image_list = []\n",
    "for prompt in [prompt1, prompt2, prompt3, prompt4, prompt5]:\n",
    "    image = pipeline(prompt, num_inference_steps=25).images[0]\n",
    "    image_list.append(image)"
   ]
  },
  {
   "cell_type": "code",
   "execution_count": null,
   "id": "6993761e",
   "metadata": {},
   "outputs": [],
   "source": [
    "image_list[0]"
   ]
  },
  {
   "cell_type": "code",
   "execution_count": null,
   "id": "9399b4e6",
   "metadata": {},
   "outputs": [],
   "source": [
    "image_list[1]"
   ]
  },
  {
   "cell_type": "code",
   "execution_count": null,
   "id": "b9143978",
   "metadata": {},
   "outputs": [],
   "source": [
    "image_list[2]"
   ]
  },
  {
   "cell_type": "code",
   "execution_count": null,
   "id": "e9aed7a6",
   "metadata": {},
   "outputs": [],
   "source": [
    "image_list[3]"
   ]
  },
  {
   "cell_type": "code",
   "execution_count": null,
   "id": "027f9636",
   "metadata": {},
   "outputs": [],
   "source": [
    "image_list[4]"
   ]
  },
  {
   "cell_type": "markdown",
   "id": "0efcb5de",
   "metadata": {},
   "source": [
    "## 4. Set up an Image-to-Image pipeline "
   ]
  },
  {
   "cell_type": "code",
   "execution_count": null,
   "id": "a4a66b3c",
   "metadata": {},
   "outputs": [],
   "source": [
    "from diffusers import AutoPipelineForImage2Image\n",
    "import torch\n",
    "import requests\n",
    "from PIL import Image\n",
    "from io import BytesIO\n",
    "\n",
    "# ---------------------\n",
    "\n",
    "pipeline = AutoPipelineForImage2Image.from_pretrained(\"runwayml/stable-diffusion-v1-5\")\n",
    "\n",
    "# ---------------------"
   ]
  },
  {
   "cell_type": "code",
   "execution_count": null,
   "id": "701ba95e",
   "metadata": {},
   "outputs": [],
   "source": [
    "# write your prompts\n",
    "prompt1 = \"Transform the image into a night scene\"\n",
    "prompt2 = \"Add a futuristic cityscape to the background\"\n",
    "prompt3 = \"Give the subject a cyberpunk makeover\"\n",
    "prompt4 = \"Turn the image into a watercolor painting\"\n",
    "prompt5 = \"Make it look like a scene from a fantasy novel\"\n",
    "\n",
    "url = \"https://upload.wikimedia.org/wikipedia/commons/thumb/0/0f/1665_Girl_with_a_Pearl_Earring.jpg/800px-1665_Girl_with_a_Pearl_Earring.jpg\"\n",
    "\n",
    "image_list = []\n",
    "for prompt in [prompt1, prompt2, prompt3, prompt4, prompt5]:\n",
    "    response = requests.get(url)\n",
    "    image = Image.open(BytesIO(response.content)).convert(\"RGB\")\n",
    "    image.thumbnail((768, 768))\n",
    "    image = pipeline(prompt, image, num_inference_steps=200, strength=0.75, guidance_scale=10.5).images[0]\n",
    "    image_list.append(image)\n"
   ]
  },
  {
   "cell_type": "code",
   "execution_count": null,
   "id": "e34cd660",
   "metadata": {},
   "outputs": [],
   "source": [
    "image_list[0]"
   ]
  },
  {
   "cell_type": "code",
   "execution_count": null,
   "id": "b8e6e06c",
   "metadata": {},
   "outputs": [],
   "source": [
    "image_list[1]"
   ]
  },
  {
   "cell_type": "code",
   "execution_count": null,
   "id": "e3c3e79b",
   "metadata": {},
   "outputs": [],
   "source": [
    "image_list[2]"
   ]
  },
  {
   "cell_type": "code",
   "execution_count": null,
   "id": "646d7e5e",
   "metadata": {},
   "outputs": [],
   "source": [
    "image_list[3]"
   ]
  },
  {
   "cell_type": "code",
   "execution_count": null,
   "id": "e6b72730",
   "metadata": {},
   "outputs": [],
   "source": [
    "image_list[4]"
   ]
  },
  {
   "cell_type": "code",
   "execution_count": null,
   "id": "7cd672a9",
   "metadata": {},
   "outputs": [],
   "source": []
  },
  {
   "cell_type": "code",
   "execution_count": null,
   "id": "6535ae75",
   "metadata": {},
   "outputs": [],
   "source": []
  }
 ],
 "metadata": {
  "kernelspec": {
   "display_name": "Python 3 (ipykernel)",
   "language": "python",
   "name": "python3"
  },
  "language_info": {
   "codemirror_mode": {
    "name": "ipython",
    "version": 3
   },
   "file_extension": ".py",
   "mimetype": "text/x-python",
   "name": "python",
   "nbconvert_exporter": "python",
   "pygments_lexer": "ipython3",
   "version": "3.11.4"
  }
 },
 "nbformat": 4,
 "nbformat_minor": 5
}
